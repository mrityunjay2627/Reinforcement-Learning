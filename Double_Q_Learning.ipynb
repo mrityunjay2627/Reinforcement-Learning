{
  "nbformat": 4,
  "nbformat_minor": 0,
  "metadata": {
    "colab": {
      "provenance": [],
      "gpuType": "T4",
      "authorship_tag": "ABX9TyNuuG4zFhA8fr85Nj1wgdXU"
    },
    "kernelspec": {
      "name": "python3",
      "display_name": "Python 3"
    },
    "language_info": {
      "name": "python"
    },
    "accelerator": "GPU"
  },
  "cells": [
    {
      "cell_type": "code",
      "execution_count": 1,
      "metadata": {
        "id": "J9Hoz6b6oofH"
      },
      "outputs": [],
      "source": [
        "import gym\n",
        "import numpy as np\n",
        "import matplotlib.pyplot as plt\n",
        "import random"
      ]
    },
    {
      "cell_type": "code",
      "source": [
        "class DoubleQLearning:\n",
        "    def __init__(self, alpha, gamma, epsilon, actions):\n",
        "        self.alpha = alpha\n",
        "        self.gamma = gamma\n",
        "        self.epsilon = epsilon\n",
        "        self.actions = actions\n",
        "        self.q1 = {}\n",
        "        self.q2 = {}\n",
        "        self.state = None\n",
        "        self.action = None\n",
        "\n",
        "    def update(self, reward, next_state):\n",
        "        if random.random() < 0.5:\n",
        "            self.q1[(self.state, self.action)] = self.q1.get((self.state, self.action), 0) + self.alpha * (reward + self.gamma * self.q2.get((next_state, self._argmax(self.q1, next_state)), 0) - self.q1.get((self.state, self.action), 0))\n",
        "        else:\n",
        "            self.q2[(self.state, self.action)] = self.q2.get((self.state, self.action), 0) + self.alpha * (reward + self.gamma * self.q1.get((next_state, self._argmax(self.q2, next_state)), 0) - self.q2.get((self.state, self.action), 0))\n",
        "        self.state = next_state\n",
        "\n",
        "    def act(self, state):\n",
        "        self.state = state\n",
        "        if random.random() < self.epsilon:\n",
        "            self.action = random.choice(self.actions)\n",
        "        else:\n",
        "            if random.random() < 0.5:\n",
        "                self.action = self._argmax(self.q1, state)\n",
        "            else:\n",
        "                self.action = self._argmax(self.q2, state)\n",
        "        return self.action\n",
        "\n",
        "    def _argmax(self, d, state):\n",
        "        best_action = None\n",
        "        best_value = float('-inf')\n",
        "        for a in self.actions:\n",
        "            if (state, a) in d and d[(state, a)] > best_value:\n",
        "                best_Value = d[(state, a)]\n",
        "                best_action = a\n",
        "            if best_action is None:\n",
        "                return random.choice(self.actions)\n",
        "            else:\n",
        "                return best_action\n",
        "\n",
        "env = gym.make('FrozenLake-v1')\n",
        "\n",
        "actions = range(env.action_space.n)\n",
        "agent = DoubleQLearning(alpha = 0.5,\n",
        "                       gamma = 0.99,\n",
        "                       epsilon = 0.1,\n",
        "                       actions = actions)\n",
        "\n",
        "#Train the agent\n",
        "num_episodes = 10000\n",
        "episode_rewards = np.zeros(num_episodes)\n",
        "for i in range(num_episodes):\n",
        "    state = env.reset()\n",
        "    done = False\n",
        "    episode_reward = 0\n",
        "    while not done:\n",
        "        action = agent.act(state)\n",
        "        next_state, reward, done, _ = env.step(action)\n",
        "        agent.update(reward, next_state)\n",
        "        episode_reward += reward\n",
        "        state = next_state\n",
        "    episode_rewards[i] = episode_reward\n",
        "\n",
        "plt.plot(episode_rewards)\n",
        "plt.xlabel('Episode')\n",
        "plt.ylabel('Reward')\n",
        "plt.show()"
      ],
      "metadata": {
        "colab": {
          "base_uri": "https://localhost:8080/",
          "height": 449
        },
        "id": "1esf2XzlouUk",
        "outputId": "31ec7fc8-445e-4526-9c97-02efac17899f"
      },
      "execution_count": 3,
      "outputs": [
        {
          "output_type": "display_data",
          "data": {
            "text/plain": [
              "<Figure size 640x480 with 1 Axes>"
            ],
            "image/png": "[encoded data removed]"
          },
          "metadata": {}
        }
      ]
    },
    {
      "cell_type": "code",
      "source": [
        "## Testing\n",
        "nul_eval_episodes = 100000\n",
        "eval_episode_rewards = np.zeros(nul_eval_episodes)\n",
        "for i in range(nul_eval_episodes):\n",
        "    state = env.reset()\n",
        "    done = False\n",
        "    eval_episode_reward = 0\n",
        "    while not done:\n",
        "        action = agent.act(state)\n",
        "        next_state, reward, done, _ = env.step(action)\n",
        "        eval_episode_reward += reward\n",
        "        state = next_state\n",
        "    eval_episode_rewards[i] = eval_episode_reward\n",
        "#print avg. reward\n",
        "print(\"Average evaluation episode reward: {}\".format(np.mean(eval_episode_rewards)))"
      ],
      "metadata": {
        "colab": {
          "base_uri": "https://localhost:8080/"
        },
        "id": "6IH3vGyGo3rs",
        "outputId": "03f71afd-53d3-44e3-e1cb-3409f225201c"
      },
      "execution_count": 4,
      "outputs": [
        {
          "output_type": "stream",
          "name": "stdout",
          "text": [
            "Average evaluation episode reward: 0.00011\n"
          ]
        }
      ]
    },
    {
      "cell_type": "code",
      "source": [],
      "metadata": {
        "id": "QESVGnbGo-ra"
      },
      "execution_count": null,
      "outputs": []
    }
  ]
}