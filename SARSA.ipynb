{
  "nbformat": 4,
  "nbformat_minor": 0,
  "metadata": {
    "colab": {
      "provenance": [],
      "authorship_tag": "ABX9TyN4AgixVf9wCIhIVyownOm0"
    },
    "kernelspec": {
      "name": "python3",
      "display_name": "Python 3"
    },
    "language_info": {
      "name": "python"
    }
  },
  "cells": [
    {
      "cell_type": "code",
      "execution_count": 1,
      "metadata": {
        "id": "Dwp8GU9B3pbm"
      },
      "outputs": [],
      "source": [
        "import gym\n",
        "import numpy as np\n",
        "import matplotlib.pyplot as plt"
      ]
    },
    {
      "cell_type": "code",
      "source": [
        "env = gym.make('FrozenLake-v1')\n",
        "\n",
        "# Parameters\n",
        "alpha = 0.1 # Learning Rate\n",
        "gamma = 0.99 # Discount facot\n",
        "epsilon = 0.5 # Exploration rate\n",
        "\n",
        "# Initialize Q table\n",
        "Q = np.zeros((env.observation_space.n, env.action_space.n))\n",
        "\n",
        "# Function to choose action using epsilon greedy strategy\n",
        "def choose_action(state):\n",
        "    if np.random.uniform() < epsilon:\n",
        "        #Explore: choose a random action\n",
        "        action = env.action_space.sample()\n",
        "    else:\n",
        "        # Explot: choose action with highest Q-value\n",
        "        action = np.argmax(Q[state, :])\n",
        "    return action\n",
        "\n",
        "#Function to update Q table\n",
        "def update_Q(state, action, reward, next_state, next_action):\n",
        "    Q[state, action] += alpha * (reward + gamma * Q[next_state, next_action] - Q[state, action])\n",
        "\n",
        "n_episodes = 10000\n",
        "reward_list = []\n",
        "for i in range(n_episodes):\n",
        "    # Rest environment and get initial state\n",
        "    state = env.reset()\n",
        "    done = False\n",
        "    total_reward = 0\n",
        "\n",
        "    # Choose the first action\n",
        "    action = choose_action(state)\n",
        "\n",
        "    # Loop over time steps within ine episode\n",
        "    while not done:\n",
        "        #env.render()\n",
        "        # Take action and observe next state and reward\n",
        "        next_state, reward, done, _ = env.step(action)\n",
        "\n",
        "        # Choose next action using epison-greedy strategy\n",
        "        next_action = choose_action(next_state)\n",
        "\n",
        "        # Update the Q table\n",
        "        update_Q(state, action, reward, next_state, next_action)\n",
        "\n",
        "        state = next_state\n",
        "        action = next_action\n",
        "\n",
        "        total_reward += reward\n",
        "    # Append episode total reward to list\n",
        "    reward_list.append(total_reward)\n",
        "plt.bar(np.arange(n_episodes), reward_list)\n",
        "plt.xlabel('Episode')\n",
        "plt.ylabel('Cummulative Reward')\n",
        "plt.show()"
      ],
      "metadata": {
        "colab": {
          "base_uri": "https://localhost:8080/",
          "height": 573
        },
        "id": "vC67rNer5TqF",
        "outputId": "95525113-b36f-4a27-9b5b-515c2c5007c4"
      },
      "execution_count": 2,
      "outputs": [
        {
          "output_type": "stream",
          "name": "stderr",
          "text": [
            "/usr/local/lib/python3.11/dist-packages/gym/core.py:317: DeprecationWarning: \u001b[33mWARN: Initializing wrapper in old step API which returns one bool instead of two. It is recommended to set `new_step_api=True` to use new step API. This will be the default behaviour in future.\u001b[0m\n",
            "  deprecation(\n",
            "/usr/local/lib/python3.11/dist-packages/gym/wrappers/step_api_compatibility.py:39: DeprecationWarning: \u001b[33mWARN: Initializing environment in old step API which returns one bool instead of two. It is recommended to set `new_step_api=True` to use new step API. This will be the default behaviour in future.\u001b[0m\n",
            "  deprecation(\n",
            "/usr/local/lib/python3.11/dist-packages/gym/utils/passive_env_checker.py:241: DeprecationWarning: `np.bool8` is a deprecated alias for `np.bool_`.  (Deprecated NumPy 1.24)\n",
            "  if not isinstance(terminated, (bool, np.bool8)):\n"
          ]
        },
        {
          "output_type": "display_data",
          "data": {
            "text/plain": [
              "<Figure size 640x480 with 1 Axes>"
            ],
            "image/png": "[encoded data removed]"
          },
          "metadata": {}
        }
      ]
    },
    {
      "cell_type": "code",
      "source": [],
      "metadata": {
        "id": "7ZhnE3w86A_-"
      },
      "execution_count": null,
      "outputs": []
    }
  ]
}