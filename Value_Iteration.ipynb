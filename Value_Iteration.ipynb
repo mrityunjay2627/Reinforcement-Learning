{
  "nbformat": 4,
  "nbformat_minor": 0,
  "metadata": {
    "colab": {
      "provenance": [],
      "authorship_tag": "ABX9TyNMbKTSaW6TDLjzDqFTGjiD"
    },
    "kernelspec": {
      "name": "python3",
      "display_name": "Python 3"
    },
    "language_info": {
      "name": "python"
    }
  },
  "cells": [
    {
      "cell_type": "code",
      "execution_count": 21,
      "metadata": {
        "id": "dQozx0HREBWC"
      },
      "outputs": [],
      "source": [
        "import numpy as np\n",
        "import matplotlib.pyplot as plt"
      ]
    },
    {
      "cell_type": "code",
      "source": [
        "n_rows = 4\n",
        "n_cols = 4\n",
        "n_states = n_rows * n_cols\n",
        "n_actions = 4\n",
        "transitions = np.zeros((n_states,n_actions, n_states))\n",
        "rewards = np.zeros((n_states,n_actions, n_states))\n",
        "gamma = 0.9\n",
        "\n",
        "for row in range(n_rows):\n",
        "    for col in range(n_cols):\n",
        "        s = row*n_cols+col # State 0 to 15 (16 states)\n",
        "        # print(s)\n",
        "        for a in range(n_actions):\n",
        "            if a ==0: #move up\n",
        "                s1 = max(row-1, 0 ) * n_cols + col\n",
        "            elif a ==1: #move down\n",
        "                s1 = min(row+1, n_rows-1) * n_cols + col\n",
        "            elif a == 2: #move left\n",
        "                s1 = row * n_cols + max(col-1, 0 )\n",
        "            else:\n",
        "                s1 = row * n_cols + min(col+1, n_cols-1)\n",
        "            transitions[s,a,s1] = 1.0\n",
        "            rewards[s,a,s1] = -1.0 if s1 != n_states-1 else 0.0"
      ],
      "metadata": {
        "id": "kXt4wyYSJiqu"
      },
      "execution_count": 22,
      "outputs": []
    },
    {
      "cell_type": "code",
      "source": [
        "transitions"
      ],
      "metadata": {
        "colab": {
          "base_uri": "https://localhost:8080/"
        },
        "id": "JnFciWC7Miz2",
        "outputId": "361befc5-b3e8-46c8-e651-5a4f8c425232"
      },
      "execution_count": 23,
      "outputs": [
        {
          "output_type": "execute_result",
          "data": {
            "text/plain": [
              "array([[[1., 0., 0., ..., 0., 0., 0.],\n",
              "        [0., 0., 0., ..., 0., 0., 0.],\n",
              "        [1., 0., 0., ..., 0., 0., 0.],\n",
              "        [0., 1., 0., ..., 0., 0., 0.]],\n",
              "\n",
              "       [[0., 1., 0., ..., 0., 0., 0.],\n",
              "        [0., 0., 0., ..., 0., 0., 0.],\n",
              "        [1., 0., 0., ..., 0., 0., 0.],\n",
              "        [0., 0., 1., ..., 0., 0., 0.]],\n",
              "\n",
              "       [[0., 0., 1., ..., 0., 0., 0.],\n",
              "        [0., 0., 0., ..., 0., 0., 0.],\n",
              "        [0., 1., 0., ..., 0., 0., 0.],\n",
              "        [0., 0., 0., ..., 0., 0., 0.]],\n",
              "\n",
              "       ...,\n",
              "\n",
              "       [[0., 0., 0., ..., 0., 0., 0.],\n",
              "        [0., 0., 0., ..., 1., 0., 0.],\n",
              "        [0., 0., 0., ..., 0., 0., 0.],\n",
              "        [0., 0., 0., ..., 0., 1., 0.]],\n",
              "\n",
              "       [[0., 0., 0., ..., 0., 0., 0.],\n",
              "        [0., 0., 0., ..., 0., 1., 0.],\n",
              "        [0., 0., 0., ..., 1., 0., 0.],\n",
              "        [0., 0., 0., ..., 0., 0., 1.]],\n",
              "\n",
              "       [[0., 0., 0., ..., 0., 0., 0.],\n",
              "        [0., 0., 0., ..., 0., 0., 1.],\n",
              "        [0., 0., 0., ..., 0., 1., 0.],\n",
              "        [0., 0., 0., ..., 0., 0., 1.]]])"
            ]
          },
          "metadata": {},
          "execution_count": 23
        }
      ]
    },
    {
      "cell_type": "code",
      "source": [
        "rewards"
      ],
      "metadata": {
        "colab": {
          "base_uri": "https://localhost:8080/"
        },
        "id": "HcuxKrxkMkcP",
        "outputId": "30626dcd-2c25-4c7c-8b3c-4540579f69d2"
      },
      "execution_count": 24,
      "outputs": [
        {
          "output_type": "execute_result",
          "data": {
            "text/plain": [
              "array([[[-1.,  0.,  0., ...,  0.,  0.,  0.],\n",
              "        [ 0.,  0.,  0., ...,  0.,  0.,  0.],\n",
              "        [-1.,  0.,  0., ...,  0.,  0.,  0.],\n",
              "        [ 0., -1.,  0., ...,  0.,  0.,  0.]],\n",
              "\n",
              "       [[ 0., -1.,  0., ...,  0.,  0.,  0.],\n",
              "        [ 0.,  0.,  0., ...,  0.,  0.,  0.],\n",
              "        [-1.,  0.,  0., ...,  0.,  0.,  0.],\n",
              "        [ 0.,  0., -1., ...,  0.,  0.,  0.]],\n",
              "\n",
              "       [[ 0.,  0., -1., ...,  0.,  0.,  0.],\n",
              "        [ 0.,  0.,  0., ...,  0.,  0.,  0.],\n",
              "        [ 0., -1.,  0., ...,  0.,  0.,  0.],\n",
              "        [ 0.,  0.,  0., ...,  0.,  0.,  0.]],\n",
              "\n",
              "       ...,\n",
              "\n",
              "       [[ 0.,  0.,  0., ...,  0.,  0.,  0.],\n",
              "        [ 0.,  0.,  0., ..., -1.,  0.,  0.],\n",
              "        [ 0.,  0.,  0., ...,  0.,  0.,  0.],\n",
              "        [ 0.,  0.,  0., ...,  0., -1.,  0.]],\n",
              "\n",
              "       [[ 0.,  0.,  0., ...,  0.,  0.,  0.],\n",
              "        [ 0.,  0.,  0., ...,  0., -1.,  0.],\n",
              "        [ 0.,  0.,  0., ..., -1.,  0.,  0.],\n",
              "        [ 0.,  0.,  0., ...,  0.,  0.,  0.]],\n",
              "\n",
              "       [[ 0.,  0.,  0., ...,  0.,  0.,  0.],\n",
              "        [ 0.,  0.,  0., ...,  0.,  0.,  0.],\n",
              "        [ 0.,  0.,  0., ...,  0., -1.,  0.],\n",
              "        [ 0.,  0.,  0., ...,  0.,  0.,  0.]]])"
            ]
          },
          "metadata": {},
          "execution_count": 24
        }
      ]
    },
    {
      "cell_type": "code",
      "source": [
        "def value_iteration(transitions, rewards, gamma, n_states, n_actions):\n",
        "    v = np.zeros(n_states)\n",
        "    v_history = [v.copy()]\n",
        "    delta = 1\n",
        "\n",
        "    #value iter loop:\n",
        "    while delta > 1e-6:\n",
        "        delta = 0\n",
        "        for s in range(n_states):\n",
        "            v_old = v[s]\n",
        "            q = np.zeros(n_actions)\n",
        "            for a in range(n_actions):\n",
        "                q[a] = sum(transitions[s,a,s1] * (rewards[s,a,s1] + gamma * v[s1]) for s1 in range(n_states))\n",
        "            v[s] = np.max(q)\n",
        "            delta = max(delta, abs(v_old-v[s]))\n",
        "        v_history.append(v.copy())\n",
        "\n",
        "\n",
        "    #derive policy\n",
        "    policy = np.zeros(n_states, dtype=int)\n",
        "    for s in range(n_states):\n",
        "        q = np.zeros(n_actions)\n",
        "        for a in range(n_actions):\n",
        "            q[a] = sum(transitions[s,a,s1] * (rewards[s,a,s1] + gamma * v[s1]) for s1 in range(n_states))\n",
        "        policy[s] = np.argmax(q)\n",
        "    return policy, v, v_history"
      ],
      "metadata": {
        "id": "b5YJKEqmJlfR"
      },
      "execution_count": 27,
      "outputs": []
    },
    {
      "cell_type": "code",
      "source": [
        "policy, v, v_history = value_iteration(transitions, rewards, gamma, n_states, n_actions)"
      ],
      "metadata": {
        "id": "OEcUgsuSN19u"
      },
      "execution_count": 28,
      "outputs": []
    },
    {
      "cell_type": "code",
      "source": [
        "plt.figure(figsize=(10, 8))\n",
        "for i in range(0, len(v_history), 2):\n",
        "    plt.subplot(3,3, int(i/2+1))\n",
        "    plt.imshow(v_history[i].reshape(n_rows, n_cols))\n",
        "    plt.title('Iteration {}'.format(i))\n",
        "    plt.xticks([])\n",
        "    plt.yticks([])\n",
        "plt.show() # Dark squares means higher optimal values\n",
        "\n",
        "actions = ['UP', 'DOWN', 'LEFT', 'RIGHT']\n",
        "plt.figure(figsize=(6,5))\n",
        "plt.imshow(policy.reshape(n_rows, n_cols))\n",
        "for row in range(n_rows):\n",
        "    for col in range(n_cols):\n",
        "        plt.text(col, row, actions[policy[row*n_cols + col]],\n",
        "                color='white', ha='center', va='center')\n",
        "plt"
      ],
      "metadata": {
        "colab": {
          "base_uri": "https://localhost:8080/",
          "height": 908
        },
        "id": "cQZIi9tqO9qk",
        "outputId": "d8d77fda-16eb-40fe-cc5b-0c93cd48f80f"
      },
      "execution_count": 29,
      "outputs": [
        {
          "output_type": "display_data",
          "data": {
            "text/plain": [
              "<Figure size 1000x800 with 4 Axes>"
            ],
            "image/png": "[encoded data removed]"
          },
          "metadata": {}
        },
        {
          "output_type": "execute_result",
          "data": {
            "text/plain": [
              "<module 'matplotlib.pyplot' from '/usr/local/lib/python3.11/dist-packages/matplotlib/pyplot.py'>"
            ]
          },
          "metadata": {},
          "execution_count": 29
        },
        {
          "output_type": "display_data",
          "data": {
            "text/plain": [
              "<Figure size 600x500 with 1 Axes>"
            ],
            "image/png": "[encoded data removed]"
          },
          "metadata": {}
        }
      ]
    },
    {
      "cell_type": "code",
      "source": [],
      "metadata": {
        "id": "lun7AsOwPEKv"
      },
      "execution_count": null,
      "outputs": []
    }
  ]
}