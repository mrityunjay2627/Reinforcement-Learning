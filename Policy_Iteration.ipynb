{
  "nbformat": 4,
  "nbformat_minor": 0,
  "metadata": {
    "colab": {
      "provenance": [],
      "authorship_tag": "ABX9TyOCQBhhlRZJSyXIlYbhme9Y"
    },
    "kernelspec": {
      "name": "python3",
      "display_name": "Python 3"
    },
    "language_info": {
      "name": "python"
    }
  },
  "cells": [
    {
      "cell_type": "code",
      "execution_count": 15,
      "metadata": {
        "id": "Uqx3e4H75PBq"
      },
      "outputs": [],
      "source": [
        "import numpy as np\n",
        "import matplotlib.pyplot as plt"
      ]
    },
    {
      "cell_type": "code",
      "source": [
        "n_actions = 2\n",
        "n_states = 2\n",
        "\n",
        "rewards = np.zeros((n_states, n_actions, n_states))\n",
        "for s in range(n_states):\n",
        "    for a in range(n_actions):\n",
        "        rewards[s,a, (s+a) % n_states] = 1"
      ],
      "metadata": {
        "id": "TN1hDHXV6EMu"
      },
      "execution_count": 16,
      "outputs": []
    },
    {
      "cell_type": "code",
      "source": [
        "rewards"
      ],
      "metadata": {
        "colab": {
          "base_uri": "https://localhost:8080/"
        },
        "id": "EjlHS3MF6I1V",
        "outputId": "a994d890-0dc2-4beb-cd5d-b39e67b057ac"
      },
      "execution_count": 17,
      "outputs": [
        {
          "output_type": "execute_result",
          "data": {
            "text/plain": [
              "array([[[1., 0.],\n",
              "        [0., 1.]],\n",
              "\n",
              "       [[0., 1.],\n",
              "        [1., 0.]]])"
            ]
          },
          "metadata": {},
          "execution_count": 17
        }
      ]
    },
    {
      "cell_type": "code",
      "source": [
        "transitions = np.array([\n",
        "    [[0.8, 0.2], [0.1, 0.9]],\n",
        "    [[0.7, 0.3], [0.4, 0.6]],\n",
        "])\n",
        "transitions"
      ],
      "metadata": {
        "colab": {
          "base_uri": "https://localhost:8080/"
        },
        "id": "Cr8nPN4Q6MCy",
        "outputId": "207938e9-8f89-4dd5-e9a1-532cf9ee682f"
      },
      "execution_count": 18,
      "outputs": [
        {
          "output_type": "execute_result",
          "data": {
            "text/plain": [
              "array([[[0.8, 0.2],\n",
              "        [0.1, 0.9]],\n",
              "\n",
              "       [[0.7, 0.3],\n",
              "        [0.4, 0.6]]])"
            ]
          },
          "metadata": {},
          "execution_count": 18
        }
      ]
    },
    {
      "cell_type": "code",
      "source": [
        "def policy_iter(transitions, rewards, gamma, n_states, n_actions):\n",
        "    policy = np.zeros(n_states, dtype=int)\n",
        "    v = np.zeros(n_states)\n",
        "\n",
        "    while True:\n",
        "    #evaluation\n",
        "        # delta = 0\n",
        "        for s in range(n_states):\n",
        "            v_old = v[s]\n",
        "            a = policy[s]\n",
        "            v[s] = sum(transitions[s,a,s1] * (rewards[s,a,s1] + gamma * v[s1]) for s1 in range(n_states))\n",
        "            # delta = max(delta, abs(v_old-v[s])) # If max. delta value is less than converged threshold, then policy evaluation step is considered complete\n",
        "        #improvement\n",
        "        stable_policy = True\n",
        "        for s in range(n_states):\n",
        "            old_policy = policy[s]\n",
        "            q = np.zeros(n_actions)\n",
        "            for a in range(n_actions):\n",
        "                q[s] = sum(transitions[s,a,s1] * (rewards[s,a,s1] + gamma * v[s1]) for s1 in range(n_states))\n",
        "            policy[s] = np.argmax(q)\n",
        "            if policy[s] != old_policy:\n",
        "                stable_policy = False\n",
        "\n",
        "        if stable_policy:\n",
        "            break\n",
        "\n",
        "    #plot\n",
        "    plt.plot(v)\n",
        "    plt.title('Optimal Value Function')\n",
        "    plt.xlabel('States')\n",
        "    plt.ylabel('Value')\n",
        "    plt.show()\n",
        "    return policy, v"
      ],
      "metadata": {
        "id": "TU5vyG7P6Q7z"
      },
      "execution_count": 19,
      "outputs": []
    },
    {
      "cell_type": "code",
      "source": [
        "gamma = 0.9\n",
        "policy, v = policy_iter(transitions, rewards, gamma, n_states, n_actions)\n",
        "#Print\n",
        "print(\"Converged Optimal Policy\", policy)\n",
        "print(\"Converged value function\", v) # Expected long term rewards in State 0 and State 1 respectively"
      ],
      "metadata": {
        "colab": {
          "base_uri": "https://localhost:8080/",
          "height": 507
        },
        "id": "SE1yfkKA7nOb",
        "outputId": "aca3db9b-5c55-4e77-b66b-2dc07767826a"
      },
      "execution_count": 21,
      "outputs": [
        {
          "output_type": "display_data",
          "data": {
            "text/plain": [
              "<Figure size 640x480 with 1 Axes>"
            ],
            "image/png": "[encoded data removed]"
          },
          "metadata": {}
        },
        {
          "output_type": "stream",
          "name": "stdout",
          "text": [
            "Converged Optimal Policy [0 1]\n",
            "Converged value function [1.52072   1.3816192]\n"
          ]
        }
      ]
    },
    {
      "cell_type": "code",
      "source": [],
      "metadata": {
        "id": "eJ28eajW7wVf"
      },
      "execution_count": 20,
      "outputs": []
    }
  ]
}