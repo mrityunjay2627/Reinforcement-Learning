{
  "nbformat": 4,
  "nbformat_minor": 0,
  "metadata": {
    "colab": {
      "provenance": [],
      "authorship_tag": "ABX9TyNVO4rWp+M0wSUKFYiqHtAG"
    },
    "kernelspec": {
      "name": "python3",
      "display_name": "Python 3"
    },
    "language_info": {
      "name": "python"
    }
  },
  "cells": [
    {
      "cell_type": "code",
      "execution_count": null,
      "metadata": {
        "colab": {
          "base_uri": "https://localhost:8080/"
        },
        "id": "Hw_SqNBIvqgj",
        "outputId": "2bda8506-c208-47df-fb91-5ba7d9583198"
      },
      "outputs": [
        {
          "output_type": "stream",
          "name": "stdout",
          "text": [
            "Requirement already satisfied: gym in /usr/local/lib/python3.11/dist-packages (0.25.2)\n",
            "Requirement already satisfied: numpy>=1.18.0 in /usr/local/lib/python3.11/dist-packages (from gym) (1.26.4)\n",
            "Requirement already satisfied: cloudpickle>=1.2.0 in /usr/local/lib/python3.11/dist-packages (from gym) (3.1.1)\n",
            "Requirement already satisfied: gym_notices>=0.0.4 in /usr/local/lib/python3.11/dist-packages (from gym) (0.0.8)\n"
          ]
        }
      ],
      "source": [
        "!pip3 install gym"
      ]
    },
    {
      "cell_type": "code",
      "source": [
        "import gym\n",
        "import numpy as np"
      ],
      "metadata": {
        "id": "mlT56TRqvwzv"
      },
      "execution_count": null,
      "outputs": []
    },
    {
      "cell_type": "code",
      "source": [
        "env = gym.make('FrozenLake-v1',new_step_api=True, render_mode='human')"
      ],
      "metadata": {
        "id": "4DPauQIawP-X"
      },
      "execution_count": null,
      "outputs": []
    },
    {
      "cell_type": "code",
      "source": [
        "n_states = env.observation_space.n\n",
        "n_actions = env.action_space.n\n",
        "\n",
        "print(n_states)\n",
        "print(n_actions)"
      ],
      "metadata": {
        "colab": {
          "base_uri": "https://localhost:8080/"
        },
        "id": "kr9YOk6Bv8fa",
        "outputId": "31e75d75-876b-4d2f-ce6f-d7d9a032ecbb"
      },
      "execution_count": null,
      "outputs": [
        {
          "output_type": "stream",
          "name": "stdout",
          "text": [
            "16\n",
            "4\n"
          ]
        }
      ]
    },
    {
      "cell_type": "code",
      "source": [
        "V = np.zeros(n_states)\n",
        "returns = {}\n",
        "\n",
        "n_episodes = 100\n",
        "max_steps = 100\n",
        "\n",
        "for i in range(n_episodes):\n",
        "    episode = []\n",
        "    state = env.reset() # Initialize all the things to 0\n",
        "    for j in range(max_steps):\n",
        "        env.render()\n",
        "        action = env.action_space.sample() #choose the random action\n",
        "        # print(env.step(action))\n",
        "        next_state, reward, done, info, prob = env.step(action)\n",
        "        episode.append((state, action, reward))\n",
        "        state = next_state\n",
        "        if done:\n",
        "            break\n",
        "\n",
        "    states, actions, rewards = zip(*episode)\n",
        "    discounts = np.array([0.9**i for i in range(len(rewards))])\n",
        "    for t in range(len(episode)):\n",
        "        G = sum(rewards[t:] * discounts[:len(rewards)-t])\n",
        "        action, state = actions[t], states[t]\n",
        "        if (state, action) not in returns:\n",
        "            returns[(state, action)] = []\n",
        "        returns[(state, action)].append(G)\n",
        "    #update the val fn\n",
        "    for state in range(n_states):\n",
        "        if (state, action) in returns:\n",
        "            V[state] = np.mean(returns[(state, action)])\n",
        "print(V)"
      ],
      "metadata": {
        "colab": {
          "base_uri": "https://localhost:8080/"
        },
        "id": "i5oEhkK_wDIN",
        "outputId": "a3f79e6a-90b3-415a-95c9-ea70b59ba80a"
      },
      "execution_count": null,
      "outputs": [
        {
          "output_type": "stream",
          "name": "stdout",
          "text": [
            "[0.         0.01304446 0.         0.         0.02391485 0.\n",
            " 0.         0.         0.02172535 0.         0.695847   0.\n",
            " 0.         0.34867844 0.8645     0.        ]\n"
          ]
        }
      ]
    },
    {
      "cell_type": "code",
      "source": [],
      "metadata": {
        "id": "uFlT_AGRwe1Z"
      },
      "execution_count": null,
      "outputs": []
    },
    {
      "cell_type": "code",
      "source": [],
      "metadata": {
        "id": "i_Ga6Ci5zPXO"
      },
      "execution_count": null,
      "outputs": []
    }
  ]
}