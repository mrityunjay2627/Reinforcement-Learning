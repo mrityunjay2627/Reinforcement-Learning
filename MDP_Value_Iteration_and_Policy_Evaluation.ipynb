{
  "nbformat": 4,
  "nbformat_minor": 0,
  "metadata": {
    "colab": {
      "provenance": []
    },
    "kernelspec": {
      "name": "python3",
      "display_name": "Python 3"
    },
    "language_info": {
      "name": "python"
    }
  },
  "cells": [
    {
      "cell_type": "code",
      "execution_count": 1,
      "metadata": {
        "id": "6mecQj12lLMQ"
      },
      "outputs": [],
      "source": [
        "#Problem Statement: You're going out, do you need umbrella.\n",
        "\n",
        "#States: Rainy, Cloudy and Sunny\n",
        "#Actions: Umbrella & No umbrella\n",
        "#Reward: Dict mapping with each state action pair\n",
        "#Transition Prob\n",
        "#Discount Factor"
      ]
    },
    {
      "cell_type": "code",
      "source": [
        "# !pip install pymdptoolbox"
      ],
      "metadata": {
        "colab": {
          "base_uri": "https://localhost:8080/"
        },
        "id": "somk_UdiliA0",
        "outputId": "4f1d612d-3c7f-46d0-b46b-6c1e58c4af8f"
      },
      "execution_count": 3,
      "outputs": [
        {
          "output_type": "stream",
          "name": "stdout",
          "text": [
            "Collecting pymdptoolbox\n",
            "  Downloading pymdptoolbox-4.0-b3.zip (29 kB)\n",
            "  Preparing metadata (setup.py) ... \u001b[?25l\u001b[?25hdone\n",
            "Requirement already satisfied: numpy in /usr/local/lib/python3.11/dist-packages (from pymdptoolbox) (1.26.4)\n",
            "Requirement already satisfied: scipy in /usr/local/lib/python3.11/dist-packages (from pymdptoolbox) (1.13.1)\n",
            "Building wheels for collected packages: pymdptoolbox\n",
            "  Building wheel for pymdptoolbox (setup.py) ... \u001b[?25l\u001b[?25hdone\n",
            "  Created wheel for pymdptoolbox: filename=pymdptoolbox-4.0b3-py3-none-any.whl size=25656 sha256=0dad10afb9c47d5badb0411326867596ef8019d87eadf3a3b23e8591b2943657\n",
            "  Stored in directory: /root/.cache/pip/wheels/cc/81/b3/db002373e7a93d9151e9dc9ea1084102b0028f2339724b32a3\n",
            "Successfully built pymdptoolbox\n",
            "Installing collected packages: pymdptoolbox\n",
            "Successfully installed pymdptoolbox-4.0b3\n"
          ]
        }
      ]
    },
    {
      "cell_type": "code",
      "source": [
        "import numpy as np\n",
        "import matplotlib.pyplot as plt"
      ],
      "metadata": {
        "id": "BPFFjAMGlTDG"
      },
      "execution_count": 2,
      "outputs": []
    },
    {
      "cell_type": "code",
      "source": [
        "states = ['Rainy', 'Cloudy', 'Sunny']\n",
        "actions = ['Umbrella', 'No Umbrella']\n",
        "rewards = {'Rainy': {'Umbrella': -1, 'No Umbrella': -5},\n",
        "           'Cloudy': {'Umbrella': -1, 'No Umbrella': -1},\n",
        "           'Sunny': {'Umbrella': -5, 'No Umbrella': -1}}\n",
        "transitions = {'Rainy': {'Umbrella': {'Rainy': 0.7, 'Cloudy': 0.3, 'Sunny': 0},\n",
        "                         'No Umbrella': {'Rainy': 0.3, 'Cloudy': 0.4, 'Sunny': 0.3}},\n",
        "               'Cloudy': {'Umbrella': {'Rainy': 0.4, 'Cloudy': 0.6, 'Sunny': 0},\n",
        "                          'No Umbrella': {'Rainy': 0, 'Cloudy': 0.7, 'Sunny': 0.3}},\n",
        "               'Sunny': {'Umbrella': {'Rainy': 0, 'Cloudy': 0, 'Sunny': 1},\n",
        "                         'No Umbrella': {'Rainy': 0, 'Cloudy': 0.4, 'Sunny': 0.6}}}\n",
        "discount_factor = 0.9"
      ],
      "metadata": {
        "id": "HIrHbJb7lVWJ"
      },
      "execution_count": 12,
      "outputs": []
    },
    {
      "cell_type": "code",
      "source": [
        "count = 3\n",
        "def value_iteration():\n",
        "    # init value function to be 0 for each state\n",
        "    V = {s: 0 for s in states}\n",
        "    global count\n",
        "    while True:\n",
        "        # Compute updated value function for each state\n",
        "        new_V = {}\n",
        "        for s in states:\n",
        "            values = []\n",
        "            for a in actions:\n",
        "                value = rewards[s][a]\n",
        "                for s_dash in states:\n",
        "                    value += discount_factor*transitions[s][a][s_dash]*V[s_dash]\n",
        "                    if count>0:\n",
        "                        print(s,a,s_dash,value,V[s_dash])\n",
        "                # print(s,a,value)\n",
        "                values.append(value)\n",
        "            new_V[s] = max(values)\n",
        "            if count > 0:\n",
        "                print(values)\n",
        "                print(s,V[s],new_V[s])\n",
        "\n",
        "            # Check for convergence\n",
        "        if all(abs(V[s] - new_V[s]) < 0.0001 for s in states):\n",
        "            return new_V\n",
        "        V = new_V\n",
        "        count -= 1\n",
        "\n",
        "\n",
        "V = value_iteration()\n",
        "print(V)\n",
        "\n",
        "print('\\n-----------------------------\\n')\n",
        "\n",
        "# Optimal Policy\n",
        "policy = {}\n",
        "for s in states:\n",
        "    values = []\n",
        "    for a in actions:\n",
        "        value = rewards[s][a]\n",
        "        for s_dash in states:\n",
        "            value += discount_factor*transitions[s][a][s_dash]*V[s_dash]\n",
        "            print(s,a,s_dash,value,V[s_dash])\n",
        "        values.append(value)\n",
        "        print(values)\n",
        "    policy[s] = actions[np.argmax(values)]\n",
        "    print(s,policy[s])\n",
        "\n",
        "print(f'Optimal Policy: {policy}')\n"
      ],
      "metadata": {
        "colab": {
          "base_uri": "https://localhost:8080/"
        },
        "id": "dwOidjhml5Fi",
        "outputId": "fae07d7d-1cb1-47b2-b530-195519fa7f11"
      },
      "execution_count": 30,
      "outputs": [
        {
          "output_type": "stream",
          "name": "stdout",
          "text": [
            "Rainy Umbrella Rainy -1.0 0\n",
            "Rainy Umbrella Cloudy -1.0 0\n",
            "Rainy Umbrella Sunny -1.0 0\n",
            "Rainy No Umbrella Rainy -5.0 0\n",
            "Rainy No Umbrella Cloudy -5.0 0\n",
            "Rainy No Umbrella Sunny -5.0 0\n",
            "[-1.0, -5.0]\n",
            "Rainy 0 -1.0\n",
            "Cloudy Umbrella Rainy -1.0 0\n",
            "Cloudy Umbrella Cloudy -1.0 0\n",
            "Cloudy Umbrella Sunny -1.0 0\n",
            "Cloudy No Umbrella Rainy -1.0 0\n",
            "Cloudy No Umbrella Cloudy -1.0 0\n",
            "Cloudy No Umbrella Sunny -1.0 0\n",
            "[-1.0, -1.0]\n",
            "Cloudy 0 -1.0\n",
            "Sunny Umbrella Rainy -5.0 0\n",
            "Sunny Umbrella Cloudy -5.0 0\n",
            "Sunny Umbrella Sunny -5.0 0\n",
            "Sunny No Umbrella Rainy -1.0 0\n",
            "Sunny No Umbrella Cloudy -1.0 0\n",
            "Sunny No Umbrella Sunny -1.0 0\n",
            "[-5.0, -1.0]\n",
            "Sunny 0 -1.0\n",
            "Rainy Umbrella Rainy -1.63 -1.0\n",
            "Rainy Umbrella Cloudy -1.9 -1.0\n",
            "Rainy Umbrella Sunny -1.9 -1.0\n",
            "Rainy No Umbrella Rainy -5.27 -1.0\n",
            "Rainy No Umbrella Cloudy -5.63 -1.0\n",
            "Rainy No Umbrella Sunny -5.9 -1.0\n",
            "[-1.9, -5.9]\n",
            "Rainy -1.0 -1.9\n",
            "Cloudy Umbrella Rainy -1.36 -1.0\n",
            "Cloudy Umbrella Cloudy -1.9000000000000001 -1.0\n",
            "Cloudy Umbrella Sunny -1.9000000000000001 -1.0\n",
            "Cloudy No Umbrella Rainy -1.0 -1.0\n",
            "Cloudy No Umbrella Cloudy -1.63 -1.0\n",
            "Cloudy No Umbrella Sunny -1.9 -1.0\n",
            "[-1.9000000000000001, -1.9]\n",
            "Cloudy -1.0 -1.9\n",
            "Sunny Umbrella Rainy -5.0 -1.0\n",
            "Sunny Umbrella Cloudy -5.0 -1.0\n",
            "Sunny Umbrella Sunny -5.9 -1.0\n",
            "Sunny No Umbrella Rainy -1.0 -1.0\n",
            "Sunny No Umbrella Cloudy -1.36 -1.0\n",
            "Sunny No Umbrella Sunny -1.9000000000000001 -1.0\n",
            "[-5.9, -1.9000000000000001]\n",
            "Sunny -1.0 -1.9000000000000001\n",
            "Rainy Umbrella Rainy -2.197 -1.9\n",
            "Rainy Umbrella Cloudy -2.71 -1.9\n",
            "Rainy Umbrella Sunny -2.71 -1.9000000000000001\n",
            "Rainy No Umbrella Rainy -5.513 -1.9\n",
            "Rainy No Umbrella Cloudy -6.197 -1.9\n",
            "Rainy No Umbrella Sunny -6.71 -1.9000000000000001\n",
            "[-2.71, -6.71]\n",
            "Rainy -1.9 -2.71\n",
            "Cloudy Umbrella Rainy -1.6840000000000002 -1.9\n",
            "Cloudy Umbrella Cloudy -2.71 -1.9\n",
            "Cloudy Umbrella Sunny -2.71 -1.9000000000000001\n",
            "Cloudy No Umbrella Rainy -1.0 -1.9\n",
            "Cloudy No Umbrella Cloudy -2.197 -1.9\n",
            "Cloudy No Umbrella Sunny -2.71 -1.9000000000000001\n",
            "[-2.71, -2.71]\n",
            "Cloudy -1.9 -2.71\n",
            "Sunny Umbrella Rainy -5.0 -1.9\n",
            "Sunny Umbrella Cloudy -5.0 -1.9\n",
            "Sunny Umbrella Sunny -6.71 -1.9000000000000001\n",
            "Sunny No Umbrella Rainy -1.0 -1.9\n",
            "Sunny No Umbrella Cloudy -1.6840000000000002 -1.9\n",
            "Sunny No Umbrella Sunny -2.7100000000000004 -1.9000000000000001\n",
            "[-6.71, -2.7100000000000004]\n",
            "Sunny -1.9000000000000001 -2.7100000000000004\n",
            "{'Rainy': -9.999153585021714, 'Cloudy': -9.999153585021716, 'Sunny': -9.999153585021716}\n",
            "\n",
            "-----------------------------\n",
            "\n",
            "Rainy Umbrella Rainy -7.29946675856368 -9.999153585021714\n",
            "Rainy Umbrella Cloudy -9.999238226519545 -9.999153585021716\n",
            "Rainy Umbrella Sunny -9.999238226519545 -9.999153585021716\n",
            "[-9.999238226519545]\n",
            "Rainy No Umbrella Rainy -7.699771467955863 -9.999153585021714\n",
            "Rainy No Umbrella Cloudy -11.299466758563682 -9.999153585021716\n",
            "Rainy No Umbrella Sunny -13.999238226519545 -9.999153585021716\n",
            "[-9.999238226519545, -13.999238226519545]\n",
            "Rainy Umbrella\n",
            "Cloudy Umbrella Rainy -4.5996952906078175 -9.999153585021714\n",
            "Cloudy Umbrella Cloudy -9.999238226519545 -9.999153585021716\n",
            "Cloudy Umbrella Sunny -9.999238226519545 -9.999153585021716\n",
            "[-9.999238226519545]\n",
            "Cloudy No Umbrella Rainy -1.0 -9.999153585021714\n",
            "Cloudy No Umbrella Cloudy -7.299466758563681 -9.999153585021716\n",
            "Cloudy No Umbrella Sunny -9.999238226519545 -9.999153585021716\n",
            "[-9.999238226519545, -9.999238226519545]\n",
            "Cloudy Umbrella\n",
            "Sunny Umbrella Rainy -5.0 -9.999153585021714\n",
            "Sunny Umbrella Cloudy -5.0 -9.999153585021716\n",
            "Sunny Umbrella Sunny -13.999238226519545 -9.999153585021716\n",
            "[-13.999238226519545]\n",
            "Sunny No Umbrella Rainy -1.0 -9.999153585021714\n",
            "Sunny No Umbrella Cloudy -4.599695290607818 -9.999153585021716\n",
            "Sunny No Umbrella Sunny -9.999238226519545 -9.999153585021716\n",
            "[-13.999238226519545, -9.999238226519545]\n",
            "Sunny No Umbrella\n",
            "Optimal Policy: {'Rainy': 'Umbrella', 'Cloudy': 'Umbrella', 'Sunny': 'No Umbrella'}\n"
          ]
        }
      ]
    },
    {
      "cell_type": "code",
      "source": [
        "print(f'Optimal Policy: {policy}')"
      ],
      "metadata": {
        "colab": {
          "base_uri": "https://localhost:8080/"
        },
        "id": "YnaZU513n6lM",
        "outputId": "842c6e83-6c05-44c2-9b86-0e2cf2185d64"
      },
      "execution_count": 31,
      "outputs": [
        {
          "output_type": "stream",
          "name": "stdout",
          "text": [
            "Optimal Policy: {'Rainy': 'Umbrella', 'Cloudy': 'Umbrella', 'Sunny': 'No Umbrella'}\n"
          ]
        }
      ]
    },
    {
      "cell_type": "code",
      "source": [
        "# import mdptoolbox.example\n",
        "# P, R = mdptoolbox.example.forest()\n",
        "# vi = mdptaoolbox.mdp.ValueIteration(P, R, 0.9)\n",
        "# vi.run()\n",
        "# P, R, vi.policy # result is (0, 0, 0)"
      ],
      "metadata": {
        "id": "rqSk__hh-jil"
      },
      "execution_count": 34,
      "outputs": []
    },
    {
      "cell_type": "code",
      "source": [],
      "metadata": {
        "id": "A9WZHnZf-8cY"
      },
      "execution_count": null,
      "outputs": []
    }
  ]
}